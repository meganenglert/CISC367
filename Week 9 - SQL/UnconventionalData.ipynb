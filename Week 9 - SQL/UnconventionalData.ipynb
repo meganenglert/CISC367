{
 "cells": [
  {
   "cell_type": "markdown",
   "id": "adjacent-league",
   "metadata": {},
   "source": [
    "# Problem 1"
   ]
  },
  {
   "cell_type": "code",
   "execution_count": 25,
   "id": "incorrect-decision",
   "metadata": {},
   "outputs": [
    {
     "data": {
      "text/plain": [
       "the         2640\n",
       ".           2323\n",
       "of          1580\n",
       "to          1384\n",
       "and         1174\n",
       "a            977\n",
       "in           694\n",
       "is           612\n",
       "for          524\n",
       "that         507\n",
       "be           431\n",
       "data         407\n",
       "The          361\n",
       "are          349\n",
       "with         337\n",
       "as           307\n",
       "students     259\n",
       "can          257\n",
       "this         247\n",
       "course       233\n",
       "it           222\n",
       "or           221\n",
       "on           210\n",
       "an           190\n",
       "their        182\n",
       "was          176\n",
       "by           171\n",
       "Data         171\n",
       "not          168\n",
       "I            155\n",
       "dtype: int64"
      ]
     },
     "execution_count": 25,
     "metadata": {},
     "output_type": "execute_result"
    }
   ],
   "source": [
    "import fitz\n",
    "import pandas as pd\n",
    "from collections import Counter\n",
    "\n",
    "doc = fitz.open('dissertation.pdf')\n",
    "text = \"\".join(page.get_text(\"text\") for page in doc)\n",
    "words = pd.Series(text.split())\n",
    "words.value_counts().head(30)"
   ]
  },
  {
   "cell_type": "code",
   "execution_count": 26,
   "id": "motivated-valuable",
   "metadata": {},
   "outputs": [
    {
     "data": {
      "text/html": [
       "<div>\n",
       "<style scoped>\n",
       "    .dataframe tbody tr th:only-of-type {\n",
       "        vertical-align: middle;\n",
       "    }\n",
       "\n",
       "    .dataframe tbody tr th {\n",
       "        vertical-align: top;\n",
       "    }\n",
       "\n",
       "    .dataframe thead th {\n",
       "        text-align: right;\n",
       "    }\n",
       "</style>\n",
       "<table border=\"1\" class=\"dataframe\">\n",
       "  <thead>\n",
       "    <tr style=\"text-align: right;\">\n",
       "      <th></th>\n",
       "      <th>0</th>\n",
       "      <th>1</th>\n",
       "      <th>2</th>\n",
       "      <th>3</th>\n",
       "      <th>4</th>\n",
       "    </tr>\n",
       "  </thead>\n",
       "  <tbody>\n",
       "    <tr>\n",
       "      <th>0</th>\n",
       "      <td>Fall</td>\n",
       "      <td>2020 Fall Term</td>\n",
       "      <td></td>\n",
       "      <td>2021 Fall Term</td>\n",
       "      <td></td>\n",
       "    </tr>\n",
       "    <tr>\n",
       "      <th>1</th>\n",
       "      <td>First Day of Classes</td>\n",
       "      <td>Tue</td>\n",
       "      <td>September 1</td>\n",
       "      <td>Tue</td>\n",
       "      <td>August 31</td>\n",
       "    </tr>\n",
       "    <tr>\n",
       "      <th>2</th>\n",
       "      <td>Labor Day - Classes Will Meet</td>\n",
       "      <td>Mon</td>\n",
       "      <td>September 7</td>\n",
       "      <td></td>\n",
       "      <td></td>\n",
       "    </tr>\n",
       "    <tr>\n",
       "      <th>3</th>\n",
       "      <td>Labor Day - Classes Suspended</td>\n",
       "      <td></td>\n",
       "      <td></td>\n",
       "      <td>Mon</td>\n",
       "      <td>September 6</td>\n",
       "    </tr>\n",
       "    <tr>\n",
       "      <th>4</th>\n",
       "      <td>Last day to add or drop courses</td>\n",
       "      <td>Tue</td>\n",
       "      <td>September 15</td>\n",
       "      <td>Tue</td>\n",
       "      <td>September 14</td>\n",
       "    </tr>\n",
       "    <tr>\n",
       "      <th>...</th>\n",
       "      <td>...</td>\n",
       "      <td>...</td>\n",
       "      <td>...</td>\n",
       "      <td>...</td>\n",
       "      <td>...</td>\n",
       "    </tr>\n",
       "    <tr>\n",
       "      <th>70</th>\n",
       "      <td>Summer Session - 10 week - classes begin</td>\n",
       "      <td>Mon</td>\n",
       "      <td>June 7</td>\n",
       "      <td>Mon</td>\n",
       "      <td>June 6</td>\n",
       "    </tr>\n",
       "    <tr>\n",
       "      <th>71</th>\n",
       "      <td>Last day to add or drop courses</td>\n",
       "      <td>Wed</td>\n",
       "      <td>June 16</td>\n",
       "      <td>Wed</td>\n",
       "      <td>June 15</td>\n",
       "    </tr>\n",
       "    <tr>\n",
       "      <th>72</th>\n",
       "      <td>Last day to change registration or withdraw fr...</td>\n",
       "      <td>Thur</td>\n",
       "      <td>July 15</td>\n",
       "      <td>Thur</td>\n",
       "      <td>July 14</td>\n",
       "    </tr>\n",
       "    <tr>\n",
       "      <th>73</th>\n",
       "      <td>Final Exams</td>\n",
       "      <td>Fri</td>\n",
       "      <td>August 13</td>\n",
       "      <td>Fri</td>\n",
       "      <td>August 12</td>\n",
       "    </tr>\n",
       "    <tr>\n",
       "      <th>74</th>\n",
       "      <td>Deadline for 10-week grades to be posted to UDSIS</td>\n",
       "      <td>Tue</td>\n",
       "      <td>August 17</td>\n",
       "      <td>Tue</td>\n",
       "      <td>August 16</td>\n",
       "    </tr>\n",
       "  </tbody>\n",
       "</table>\n",
       "<p>75 rows × 5 columns</p>\n",
       "</div>"
      ],
      "text/plain": [
       "                                                    0               1  \\\n",
       "0                                                Fall  2020 Fall Term   \n",
       "1                                First Day of Classes             Tue   \n",
       "2                       Labor Day - Classes Will Meet             Mon   \n",
       "3                       Labor Day - Classes Suspended                   \n",
       "4                     Last day to add or drop courses             Tue   \n",
       "..                                                ...             ...   \n",
       "70           Summer Session - 10 week - classes begin             Mon   \n",
       "71                    Last day to add or drop courses             Wed   \n",
       "72  Last day to change registration or withdraw fr...            Thur   \n",
       "73                                        Final Exams             Fri   \n",
       "74  Deadline for 10-week grades to be posted to UDSIS             Tue   \n",
       "\n",
       "               2               3             4  \n",
       "0                 2021 Fall Term                \n",
       "1    September 1             Tue     August 31  \n",
       "2    September 7                                \n",
       "3                            Mon   September 6  \n",
       "4   September 15             Tue  September 14  \n",
       "..           ...             ...           ...  \n",
       "70        June 7             Mon        June 6  \n",
       "71       June 16             Wed       June 15  \n",
       "72       July 15            Thur       July 14  \n",
       "73     August 13             Fri     August 12  \n",
       "74     August 17             Tue     August 16  \n",
       "\n",
       "[75 rows x 5 columns]"
      ]
     },
     "execution_count": 26,
     "metadata": {},
     "output_type": "execute_result"
    }
   ],
   "source": [
    "import camelot\n",
    "tables = camelot.read_pdf('calendar.pdf')\n",
    "df = tables[0].df\n",
    "df"
   ]
  },
  {
   "cell_type": "code",
   "execution_count": 27,
   "id": "everyday-reminder",
   "metadata": {},
   "outputs": [
    {
     "data": {
      "text/plain": [
       "          136\n",
       "by         136\n",
       "due        135\n",
       "11:59pm     83\n",
       "and         71\n",
       "2021        71\n",
       "the         59\n",
       "to          54\n",
       "8:30am      48\n",
       "in          30\n",
       "be          28\n",
       "Mar         26\n",
       "on          25\n",
       "will        23\n",
       "a           22\n",
       "of          22\n",
       "Apr         21\n",
       "with        20\n",
       "Quiz        18\n",
       "you         17\n",
       "your        16\n",
       "for         16\n",
       "Fri         15\n",
       "C           14\n",
       "May         14\n",
       "is          14\n",
       "Pi          14\n",
       "that        13\n",
       "(video)     13\n",
       "Wed         13\n",
       "dtype: int64"
      ]
     },
     "execution_count": 27,
     "metadata": {},
     "output_type": "execute_result"
    }
   ],
   "source": [
    "doc = fitz.open('syllabus.pdf')\n",
    "text = \"\".join(page.get_text(\"text\") for page in doc)\n",
    "words = pd.Series(text.split())\n",
    "words.value_counts().head(30)"
   ]
  },
  {
   "cell_type": "markdown",
   "id": "enormous-banner",
   "metadata": {},
   "source": [
    "# Problem 2"
   ]
  },
  {
   "cell_type": "code",
   "execution_count": 28,
   "id": "faced-frost",
   "metadata": {},
   "outputs": [
    {
     "name": "stdout",
     "output_type": "stream",
     "text": [
      "[{'title': 'the struggle is real', 'url': 'https://i.redd.it/qzdkqdx2mvy61.png'}, {'title': '\"What are you doing... enormous sibling?!\"', 'url': 'https://i.imgur.com/6H14WTm.jpg'}, {'title': 'A plot thread SAO was too afraid to commit to', 'url': 'https://i.redd.it/dyatm7dbtvy61.png'}, {'title': 'hebrew and japanese', 'url': 'https://i.redd.it/xasnw4saavy61.jpg'}, {'title': 'As a frequenter of r/mbti.... damn...', 'url': 'https://i.redd.it/w4raun279vy61.jpg'}, {'title': 'Gently float', 'url': 'https://i.imgur.com/GXyCunQ.jpg'}, {'title': 'butter crisis', 'url': 'https://i.redd.it/sjd3esjkzvy61.jpg'}, {'title': 'Dear Margaret', 'url': 'https://i.redd.it/xgktns5qbuy61.png'}, {'title': 'Flashback episode', 'url': 'https://i.redd.it/f0ib0reihty61.jpg'}, {'title': 'EU Nations', 'url': 'https://i.redd.it/8c8dngbgnvy61.jpg'}, {'title': 'D O U G - D I M M A D A G G E R', 'url': 'https://i.redd.it/me86vhinfvy61.jpg'}, {'title': 'How to subtly hint you watch documentaries....', 'url': 'https://i.imgur.com/vFdyr3Q.jpg'}, {'title': 'They better have gotten an A -', 'url': 'https://i.redd.it/v71c5iskvty61.jpg'}, {'title': 'Forbidden same-sex christian smiling', 'url': 'https://i.redd.it/i9jf9ycf5wy61.png'}, {'title': 'Better call Usagi about this...', 'url': 'https://i.redd.it/pywyfmyrpty61.jpg'}, {'title': 'What a nice guy', 'url': 'https://i.redd.it/lnxvu59ugty61.jpg'}, {'title': 'Like a Weasley', 'url': 'https://i.redd.it/pkfvc0udbwy61.png'}, {'title': 'i am pie', 'url': 'https://i.redd.it/wz3ruhxt5wy61.jpg'}, {'title': 'I wish I would have thought of something like this during my senior year.', 'url': 'https://i.redd.it/k8qxutxvhvy61.jpg'}, {'title': 'the back of the rice', 'url': 'https://i.redd.it/tsjvezu6hvy61.jpg'}, {'title': '*ascends*', 'url': 'https://i.redd.it/kljsviv3bwy61.png'}, {'title': 'Gendermon', 'url': 'https://i.imgur.com/H7RZkBd.png'}, {'title': 'Icing', 'url': 'https://i.redd.it/08hg7z9i8sy61.jpg'}, {'title': 'elf v orc', 'url': 'https://i.redd.it/anwrwexvcwy61.jpg'}, {'title': \"It's art\", 'url': 'https://i.redd.it/2lf2xbj1euy61.png'}]\n"
     ]
    }
   ],
   "source": [
    "import requests\n",
    "data = requests.get(\"https://www.reddit.com/r/tumblr/.json\", headers = {'User-agent': 'your bot 0.1'}).json()\n",
    "children = []\n",
    "for child in data['data']['children']:\n",
    "    if child['data']['thumbnail'][-4:] in (\".png\", \".jpg\", \"jpeg\"):\n",
    "        childdict = {}\n",
    "        childdict['title'] = child['data']['title']\n",
    "        childdict['url'] = child['data']['url']\n",
    "        children.append(childdict)\n",
    "print(children)"
   ]
  },
  {
   "cell_type": "code",
   "execution_count": 48,
   "id": "provincial-liverpool",
   "metadata": {},
   "outputs": [],
   "source": [
    "try:\n",
    "    from PIL import Image\n",
    "except ImportError:\n",
    "    import Image\n",
    "import pytesseract\n",
    "import io\n",
    "all_text = \"\"\n",
    "for child in children:\n",
    "    response = requests.get(child['url'])\n",
    "    img = Image.open(io.BytesIO(response.content))\n",
    "    text = pytesseract.image_to_string(img)\n",
    "    all_text+=(text)"
   ]
  },
  {
   "cell_type": "code",
   "execution_count": 40,
   "id": "saved-surface",
   "metadata": {},
   "outputs": [
    {
     "name": "stdout",
     "output_type": "stream",
     "text": [
      "the                47\n",
      "and                44\n",
      "a                  39\n",
      "to                 32\n",
      "is                 27\n",
      "                   ..\n",
      "led                 1\n",
      "admires             1\n",
      "smartasticalart     1\n",
      "cultural            1\n",
      "emu                 1\n",
      "Length: 1086, dtype: int64\n"
     ]
    }
   ],
   "source": [
    "words = pd.Series(all_text.split())\n",
    "print(words.value_counts())"
   ]
  },
  {
   "cell_type": "code",
   "execution_count": 41,
   "id": "final-investor",
   "metadata": {},
   "outputs": [
    {
     "name": "stdout",
     "output_type": "stream",
     "text": [
      "['imagine', 'people ’ s hair color', 'eye color /every person', 'brown hair', 'brown eyes sighs', 'red heads', 'aren ’ t', 'way round', '’ d', 'neato “', 'people sighs', 'ww', 'party slogan ‘', 'brother', 'enormous sibling', 'hard |', 'brother enormous sibling', 'es chefpyro', 'hiavelun', 'om- sy', 'ke', 'avar- ] ofe', 'mi of-xo', 'nav', '=e [ ole ] mukole-talcyo [ -yale\\\\-lauual-laalosowe', 'wolu mau imiu', '.d1ave exe', 'vi', '] 80. gs chefpyro', 'maat=m=\\\\va-1m', 'ale |tom ex-vacxe', 'avatar foro', 'efelarel [ ale moma al-\\\\imr-lss-1', 'e ] al-te', '|-lalel-\\\\eal mi celan', 'oxe¥s1 <', '> oo', '® cd machigaeru', 'hebrew', '| don ’ t', 'cultural whiplash', 'years learning', 'japanese teachers', 'hebrew', 'israeli', 'hebrew', 'teacher insults', 'back +', 'nevermind keigo', 'hebrew', 'someone', '“ excuse', 'entire kanji', 'hebrew', '‘ bastard ’', 'direct ‘', '’ pronoun', 'hebrew', '‘ bitch ’', 'b®', 'human experience', 'b loveyatothemoonandback # japanese', '# hebrew', 'tags 2. i', 'source', 'ja', 'seguir', 'past time', 'useless false dichotomy', 'iaalialianlelaameyaavelelarmeymsxeter < m laii-le-\\\\eud', 'apmrliilale ]', 'maximum amount', 'social interaction', 'oy act-ksre', 'atsvar= ] ae at-\\\\viom elem aalele', 'c2', 'seguir', 'just shoot', 'myers', 'briggs', '“ ag tvilingloshn', 'seguir', 'briggs deserve', 'notas >', 'valerie-an j', 'whisper “', 'isn ’ t', 'i ’ m', 'wrong ”', 'bf', 'positive addition', 'post | { ©', 'sorry but the norwegian butter crisis of', 'just confuses my goddamn brain because how the actual fuck does an entire country run out of butter', 'did norway just come downstairs like', 'opens', 'fridge *', 'helvete n', 'vi kj', 'rte ut av sm', 'ren', '@ caffinatedstory |', 'gon na', 'butter crisis', '/hilarious/ attempt', \"'ve run\", 'butter ”', 'lubrication ” dungeonmastersconsortium', 'thyrell hi margaret', 'i hope', 'email blows', 's @ plum-soup', 'emails', 'ira', 'margaret', 'source', 'b®', 'x dennys college', 'tes simonstuck493', \"dennys admin's backstory\", 'source', '> o', 'bh af', 'european culture', 'european nations', 'ea', 'were', 'belgian b insaneartistoflegacysystems waffles > windmills', 'ba', 'chefpyro |', 'mantz', 'blelelemd', 'm tal', 'meltal=ys', 'i f', 'bf', 'doug dimmadagger', 'weapon', 'dimmsdale dimmaslasher', '{ dirtypaws', 'coworker', 'nice day', '2hr documentary', 'hindenburg', 'information i', 'real nice day', 'may', 'germany', 'iconic post', 'source', 'dirtypaws ps4 andiamburdenedwithgloriousfeels', '* ..', 'wait', 'iii imguiltyofthis', '@ srurfiewis', 'literally', 'asian salt water crocodiles', 'college class', 'scientific papers |', 'species list', 'formal report', 'list', 'animal |', '’ m', 'species ...', 'welcome', 'rachelle', 'drats', 'smile', 'teen', '‘ ou', 'gender [', 'be', '’ 00k-0f-the-courtier', 'source', 'fo [ ol-\\\\omr-', 'wm', 'ex- ] me|lamue-lalciielaaar-lilelamsi-re [', '[ -1aler~', 'hard hat', 'safety glasses', 'high visibility vest *', 'gi', 'ox', '-lalmant-leller-lme lia', 'rn alia al- ] m @ igesst < 11ale', 'mn', 'ela r4elalsa @', 'a0p40', 'sf', 'jared evening', 'heh', 'ie hospitalplant i', 'time i use tinder', 'ply', 'cat lets', 'empty datvikingtho', 'harry potter au', 'gordon ramsay', \"your draught of living death could n't kill\", 'fruit fly', 'you put so much ginger in that potion it tastes like', 'weasley', 'nant', 'laters lamelia| song «', 'bonnie mckee', '% —', '| song «', 'estelle', 'kanye', 'west i', 'idiot', '@ song «', 'green day', 'li', 'american pie bratphomet', '“ senior week ”', '“ tourist tuesday ”', 'senior student', 'typical “ tourist ” outfits', 'hawaiian shirts', 'fanny packs', '“ tour group ”', 'entire senior class didnt', '“ tour', 'random things', 'entire group', 'tour group', 'fake tour', 'day ae insomniac-arrest', 'fruits basket', 'rice ball', 'folic iane-lare', 'wm', 'muvi mam', 'r-', 'e\\\\-leil- ] -lelel0 lalla', 'delicious plum', '’ t', 'etanauz\\\\', 'mnale', 'relame-bc\\\\-xero', 'mel-1¢muvitgi-', '] id mcyololan-lare', 'mexele|', 'elama @ al-1|', '’ m', 'crazy. ”', '’ t', 'vato', '-meac-1amil|. < -me', 'tal-1e-m ce', 'mc-r-|-el am', '[ ola', 'ame |e -1tom', 'be', '’ s', '¥f peeshi', '’ t', 'reason ppl', 'fat juicy ass', 'pel', 'egypt', 'cairo', 'spices', 'ferdinando scianna', '% sending-those-signals gon na', 'entire blue pile', '~ kaijuno', 'pokémon', '9yyo nephew', 'irsy-', 'e sre', 'aal > 18a', 'ave m- ] ¢', 'm ale', 'om cm-l', '-1e [ -1alel-1 av mae', '< -001e', 'alamadalial @ imat-\\\\om-mel-', 'aumr-lale mala', 'isn ’ t dragon type', 'dude fuck', 'sy', 'eat- } ae', 'bre t-', 'mi', 'meo', 'e-m lam ele', '< -1901e', 'aal-m- ] 6-m-1- ] @ cemelsal-6— ™ starkeaton', '‘ oluli', 'e lm aa hymen e\\\\-', '-1alome|cole| emu iineli-\\\\v.-16-', 'e-mcom aallallaalp4omi-t-l. dale -s', 'whipped', 'cowards choice', 'fondant people', 'ta meet', 'poor life choices', 'play-doh', 'acceptable cake decoration eal igot2ne1problems', 'ya location', 'hope', '’ re gon na', 'hands ia wolfprincess1229', 'damn', 'shits gettin', 'fandom acadieum = rockboci @ snugglebull-deactivated20160725', 'teleimiilelitme', 'ibe @ iitlcmelelelemr sitar ice esie tii', 'melee unfitninjuh', 'lo', '# memes # gfhuigdh # nsfw tl', '> —————', 'jacob', 'new kind', 'novelty popcorn', '’ s', 'jacob', 'march', '2009. thefault-in-your-face']\n"
     ]
    },
    {
     "data": {
      "text/plain": [
       "be         9\n",
       "has        9\n",
       "just       9\n",
       "all        9\n",
       "my        10\n",
       "m         10\n",
       "we        10\n",
       "follow    10\n",
       "an        10\n",
       "but       11\n",
       "e         13\n",
       "in        13\n",
       "”         13\n",
       "me        13\n",
       "was       14\n",
       "on        15\n",
       "“         15\n",
       "like      17\n",
       "that      19\n",
       "i         19\n",
       "it        20\n",
       "this      21\n",
       "’         21\n",
       "of        22\n",
       "is        28\n",
       "you       32\n",
       "to        32\n",
       "a         41\n",
       "and       44\n",
       "the       52\n",
       "dtype: int64"
      ]
     },
     "execution_count": 41,
     "metadata": {},
     "output_type": "execute_result"
    }
   ],
   "source": [
    "from textblob import TextBlob\n",
    "\n",
    "blob = TextBlob(all_text)\n",
    "print(blob.noun_phrases)\n",
    "\n",
    "# Sorted with pandas\n",
    "pd.Series(blob.word_counts).sort_values().tail(30)"
   ]
  },
  {
   "cell_type": "code",
   "execution_count": 52,
   "id": "vital-investing",
   "metadata": {},
   "outputs": [
    {
     "name": "stdout",
     "output_type": "stream",
     "text": [
      " \n",
      "\n",
      "firetrucking-himym:\n",
      "\n",
      "Imagine if people’s hair color\n",
      "matched their eye color\n",
      "\n",
      "/every person who has brown\n",
      "hair and brown eyes sighs\n",
      "deeply\n",
      "\n",
      "red heads would in fact be\n",
      "satanic\n",
      "\n",
      "Why aren’t we thinking about this\n",
      "the other way round. If your hair\n",
      "looked like your eyes that’d be\n",
      "neato\n",
      "\n",
      "“brown eyed people sighs deeply\n",
      "again”\n",
      "\n",
      " \n",
      "\n",
      " \n",
      "\f",
      "\n",
      "Polarity: -0.08125\n"
     ]
    }
   ],
   "source": [
    "# using first post for simplicity\n",
    "response = requests.get(children[0]['url'])\n",
    "img = Image.open(io.BytesIO(response.content))\n",
    "text = pytesseract.image_to_string(img)\n",
    "print(text)\n",
    "blob = TextBlob(text)\n",
    "print(\"Polarity:\",blob.sentiment.polarity)\n",
    "# Value from -1 to 1 about how positive/negative the post's words are"
   ]
  },
  {
   "cell_type": "code",
   "execution_count": 47,
   "id": "sitting-forwarding",
   "metadata": {},
   "outputs": [
    {
     "name": "stdout",
     "output_type": "stream",
     "text": [
      "[{'title': 'The best kind of relationship!', 'url': 'https://i.imgur.com/nHAAsOk.jpg'}, {'title': 'A toy tiger.', 'url': 'https://i.redd.it/jfi5y9fkiwy61.jpg'}, {'title': 'I don’t know if this has been made yet, but it happened to me the other day 😌', 'url': 'https://i.redd.it/7trb69e4ovy61.jpg'}, {'title': 'A compliment can make someone’s day', 'url': 'https://i.redd.it/0ogf1ia6zwy61.jpg'}, {'title': \"A ladies' man.\", 'url': 'https://i.redd.it/73a58a54lxy61.jpg'}, {'title': 'Spending time together', 'url': 'https://i.redd.it/x858v4ciawy61.jpg'}, {'title': 'Germany moment', 'url': 'https://i.redd.it/i5vs65a4xxy61.jpg'}, {'title': 'hope it he likes it', 'url': 'https://i.redd.it/2y65gxb9svy61.jpg'}, {'title': '“I Understand You”', 'url': 'https://i.redd.it/onphqjosbvy61.jpg'}, {'title': 'Waiting at the traffic lights', 'url': 'https://i.redd.it/drrk1blo4yy61.png'}, {'title': 'Ill repay you next time :)', 'url': 'https://i.redd.it/2ezgjtytyvy61.jpg'}, {'title': 'Heard that this meme would fit here', 'url': 'https://i.redd.it/hevw1i7cyyy61.gif'}, {'title': 'Feels happy doing the dance', 'url': 'https://i.redd.it/qob447iiewy61.gif'}, {'title': 'I don’t know if this has been made yet, but it happened to me the other decade 😌', 'url': 'https://i.imgur.com/9aXMZTe.jpg'}, {'title': \"I'm there for my buddy always\", 'url': 'https://i.redd.it/xmzr7jagtsy61.png'}, {'title': 'Anyone need a band aid?', 'url': 'https://i.redd.it/173f00hnsuy61.jpg'}, {'title': 'A lollipop will ease the pain.', 'url': 'https://i.redd.it/rlisv2mnyxy61.gif'}, {'title': \"They're the best :)\", 'url': 'https://i.redd.it/17lh6n72gvy61.jpg'}, {'title': 'This is what we need!', 'url': 'https://i.redd.it/e12dkb4s1ty61.jpg'}, {'title': 'The original was too real so I made it happy.', 'url': 'https://i.redd.it/ha4atgaw5ty61.jpg'}, {'title': 'This is the last straw!', 'url': 'https://i.redd.it/n7ycqk9q3yy61.jpg'}, {'title': 'take it back', 'url': 'https://i.imgur.com/hVlLpqO.jpg'}, {'title': 'Im proud to call you my big brother', 'url': 'https://i.redd.it/gk2zex6spvy61.jpg'}, {'title': 'Dream Big, But Appreciate the Little Things', 'url': 'https://i.redd.it/3xb095aewyy61.jpg'}, {'title': \"You're never alone!\", 'url': 'https://i.redd.it/s0mzm3ysmyy61.png'}]\n"
     ]
    }
   ],
   "source": [
    "import requests\n",
    "data = requests.get(\"https://www.reddit.com/r/wholesomememes/.json\", headers = {'User-agent': 'your bot 0.1'}).json()\n",
    "children2 = []\n",
    "for child in data['data']['children']:\n",
    "    if child['data']['thumbnail'][-4:] in (\".png\", \".jpg\", \"jpeg\"):\n",
    "        childdict = {}\n",
    "        childdict['title'] = child['data']['title']\n",
    "        childdict['url'] = child['data']['url']\n",
    "        children2.append(childdict)\n",
    "print(children2)"
   ]
  },
  {
   "cell_type": "code",
   "execution_count": 49,
   "id": "average-representative",
   "metadata": {},
   "outputs": [
    {
     "name": "stdout",
     "output_type": "stream",
     "text": [
      "the       10\n",
      "a          9\n",
      "you        6\n",
      "my         5\n",
      "me         5\n",
      "          ..\n",
      "Chitin     1\n",
      "sh         1\n",
      "any        1\n",
      "drive      1\n",
      "they       1\n",
      "Length: 247, dtype: int64\n"
     ]
    }
   ],
   "source": [
    "try:\n",
    "    from PIL import Image\n",
    "except ImportError:\n",
    "    import Image\n",
    "import pytesseract\n",
    "import io\n",
    "all_text = \"\"\n",
    "for child in children2:\n",
    "    response = requests.get(child['url'])\n",
    "    img = Image.open(io.BytesIO(response.content))\n",
    "    text = pytesseract.image_to_string(img)\n",
    "    all_text+=(text)\n",
    "words = pd.Series(all_text.split())\n",
    "print(words.value_counts())"
   ]
  },
  {
   "cell_type": "markdown",
   "id": "skilled-nerve",
   "metadata": {},
   "source": [
    "# Visualizing Polarity of Memes on r/Tumblr vs r/WholesomeMemes"
   ]
  },
  {
   "cell_type": "code",
   "execution_count": 56,
   "id": "accurate-phone",
   "metadata": {},
   "outputs": [
    {
     "data": {
      "text/html": [
       "<div>\n",
       "<style scoped>\n",
       "    .dataframe tbody tr th:only-of-type {\n",
       "        vertical-align: middle;\n",
       "    }\n",
       "\n",
       "    .dataframe tbody tr th {\n",
       "        vertical-align: top;\n",
       "    }\n",
       "\n",
       "    .dataframe thead th {\n",
       "        text-align: right;\n",
       "    }\n",
       "</style>\n",
       "<table border=\"1\" class=\"dataframe\">\n",
       "  <thead>\n",
       "    <tr style=\"text-align: right;\">\n",
       "      <th></th>\n",
       "      <th>Subreddit</th>\n",
       "      <th>Polarity</th>\n",
       "    </tr>\n",
       "  </thead>\n",
       "  <tbody>\n",
       "    <tr>\n",
       "      <th>0</th>\n",
       "      <td>tumblr</td>\n",
       "      <td>-0.081250</td>\n",
       "    </tr>\n",
       "    <tr>\n",
       "      <th>1</th>\n",
       "      <td>tumblr</td>\n",
       "      <td>-0.037585</td>\n",
       "    </tr>\n",
       "    <tr>\n",
       "      <th>2</th>\n",
       "      <td>tumblr</td>\n",
       "      <td>0.116667</td>\n",
       "    </tr>\n",
       "    <tr>\n",
       "      <th>3</th>\n",
       "      <td>tumblr</td>\n",
       "      <td>-0.046059</td>\n",
       "    </tr>\n",
       "    <tr>\n",
       "      <th>4</th>\n",
       "      <td>tumblr</td>\n",
       "      <td>-0.202083</td>\n",
       "    </tr>\n",
       "    <tr>\n",
       "      <th>...</th>\n",
       "      <td>...</td>\n",
       "      <td>...</td>\n",
       "    </tr>\n",
       "    <tr>\n",
       "      <th>95</th>\n",
       "      <td>wholesome</td>\n",
       "      <td>0.000000</td>\n",
       "    </tr>\n",
       "    <tr>\n",
       "      <th>96</th>\n",
       "      <td>wholesome</td>\n",
       "      <td>0.000000</td>\n",
       "    </tr>\n",
       "    <tr>\n",
       "      <th>97</th>\n",
       "      <td>wholesome</td>\n",
       "      <td>0.000000</td>\n",
       "    </tr>\n",
       "    <tr>\n",
       "      <th>98</th>\n",
       "      <td>wholesome</td>\n",
       "      <td>-0.430556</td>\n",
       "    </tr>\n",
       "    <tr>\n",
       "      <th>99</th>\n",
       "      <td>wholesome</td>\n",
       "      <td>0.000000</td>\n",
       "    </tr>\n",
       "  </tbody>\n",
       "</table>\n",
       "<p>100 rows × 2 columns</p>\n",
       "</div>"
      ],
      "text/plain": [
       "    Subreddit  Polarity\n",
       "0      tumblr -0.081250\n",
       "1      tumblr -0.037585\n",
       "2      tumblr  0.116667\n",
       "3      tumblr -0.046059\n",
       "4      tumblr -0.202083\n",
       "..        ...       ...\n",
       "95  wholesome  0.000000\n",
       "96  wholesome  0.000000\n",
       "97  wholesome  0.000000\n",
       "98  wholesome -0.430556\n",
       "99  wholesome  0.000000\n",
       "\n",
       "[100 rows x 2 columns]"
      ]
     },
     "execution_count": 56,
     "metadata": {},
     "output_type": "execute_result"
    }
   ],
   "source": [
    "polarization_data = []\n",
    "for child in children:\n",
    "    response = requests.get(child['url'])\n",
    "    img = Image.open(io.BytesIO(response.content))\n",
    "    text = pytesseract.image_to_string(img)\n",
    "    blob = TextBlob(text)\n",
    "    if text:\n",
    "        polarization_data.append(['tumblr', blob.sentiment.polarity])\n",
    "for child in children2:\n",
    "    response = requests.get(child['url'])\n",
    "    img = Image.open(io.BytesIO(response.content))\n",
    "    text = pytesseract.image_to_string(img)\n",
    "    blob = TextBlob(text)\n",
    "    if text:\n",
    "        polarization_data.append(['wholesome', blob.sentiment.polarity])\n",
    "\n",
    "df = pd.DataFrame(polarization_data, columns = ['Subreddit', 'Polarity'])\n",
    "df"
   ]
  },
  {
   "cell_type": "code",
   "execution_count": 61,
   "id": "atmospheric-multiple",
   "metadata": {},
   "outputs": [
    {
     "data": {
      "text/plain": [
       "Text(0.5, 1.0, 'Polarity in Meme Text: r/Tumblr vs r/WholesomeMemes')"
      ]
     },
     "execution_count": 61,
     "metadata": {},
     "output_type": "execute_result"
    },
    {
     "data": {
      "image/png": "[encoded data removed]",
      "text/plain": [
       "<Figure size 432x288 with 1 Axes>"
      ]
     },
     "metadata": {
      "needs_background": "light"
     },
     "output_type": "display_data"
    }
   ],
   "source": [
    "import seaborn as sns\n",
    "import matplotlib.pyplot as plt\n",
    "sns.swarmplot(x = 'Subreddit', y = 'Polarity', data = df)\n",
    "plt.title(\"Polarity in Meme Text: r/Tumblr vs r/WholesomeMemes\")"
   ]
  },
  {
   "cell_type": "markdown",
   "id": "expired-framework",
   "metadata": {},
   "source": [
    "# Problem 3"
   ]
  },
  {
   "cell_type": "code",
   "execution_count": 66,
   "id": "considerable-flooring",
   "metadata": {},
   "outputs": [],
   "source": [
    "import numpy as np\n",
    "import cv2\n",
    "\n",
    "face_cascade = cv2.CascadeClassifier('haarcascade_frontalface_default.xml')\n",
    "eye_cascade = cv2.CascadeClassifier('haarcascade_eye.xml')\n",
    "\n",
    "img = cv2.imread('IMG_20190201_183404065.jpg')\n",
    "gray = cv2.cvtColor(img, cv2.COLOR_BGR2GRAY)\n",
    "faces = face_cascade.detectMultiScale(gray, 1.3, 5)\n",
    "for (x,y,w,h) in faces:\n",
    "    img = cv2.rectangle(img,(x,y),(x+w,y+h),(255,0,0),2)\n",
    "    roi_gray = gray[y:y+h, x:x+w]\n",
    "    roi_color = img[y:y+h, x:x+w]\n",
    "    eyes = eye_cascade.detectMultiScale(roi_gray)\n",
    "    for (ex,ey,ew,eh) in eyes:\n",
    "        cv2.rectangle(roi_color,(ex,ey),(ex+ew,ey+eh),(0,255,0),2)\n",
    "\n",
    "cv2.imshow('img',img)\n",
    "cv2.waitKey(0)\n",
    "cv2.destroyAllWindows()"
   ]
  },
  {
   "cell_type": "code",
   "execution_count": null,
   "id": "western-insert",
   "metadata": {},
   "outputs": [],
   "source": []
  }
 ],
 "metadata": {
  "kernelspec": {
   "display_name": "Python 3",
   "language": "python",
   "name": "python3"
  },
  "language_info": {
   "codemirror_mode": {
    "name": "ipython",
    "version": 3
   },
   "file_extension": ".py",
   "mimetype": "text/x-python",
   "name": "python",
   "nbconvert_exporter": "python",
   "pygments_lexer": "ipython3",
   "version": "3.9.1"
  }
 },
 "nbformat": 4,
 "nbformat_minor": 5
}
